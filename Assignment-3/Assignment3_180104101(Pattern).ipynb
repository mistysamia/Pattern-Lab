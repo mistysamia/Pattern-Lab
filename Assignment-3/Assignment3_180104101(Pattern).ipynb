{
  "nbformat": 4,
  "nbformat_minor": 0,
  "metadata": {
    "colab": {
      "name": "Assignment3_180104101(Pattern).ipynb",
      "provenance": [],
      "collapsed_sections": []
    },
    "kernelspec": {
      "name": "python3",
      "display_name": "Python 3"
    },
    "language_info": {
      "name": "python"
    }
  },
  "cells": [
    {
      "cell_type": "code",
      "source": [
        "import pandas as pd\n",
        "import numpy as np\n",
        "import matplotlib.pyplot as plt"
      ],
      "metadata": {
        "id": "kLGTumMhBKgt"
      },
      "execution_count": 90,
      "outputs": []
    },
    {
      "cell_type": "markdown",
      "source": [
        "**Data Loading**"
      ],
      "metadata": {
        "id": "0mVuY_R2Guwe"
      }
    },
    {
      "cell_type": "code",
      "source": [
        "from google.colab import drive\n",
        "drive.mount('/content/drive/')\n",
        "test_path = '/content/drive/MyDrive/Pattern Lab Data/test_knn.txt';\n",
        "train_path = '/content/drive/MyDrive/Pattern Lab Data/train_knn.txt';"
      ],
      "metadata": {
        "id": "671dMwfkijv_",
        "colab": {
          "base_uri": "https://localhost:8080/"
        },
        "outputId": "85684a28-ac33-42b7-b8a4-6543e389e6fc"
      },
      "execution_count": 91,
      "outputs": [
        {
          "output_type": "stream",
          "name": "stdout",
          "text": [
            "Drive already mounted at /content/drive/; to attempt to forcibly remount, call drive.mount(\"/content/drive/\", force_remount=True).\n"
          ]
        }
      ]
    },
    {
      "cell_type": "code",
      "source": [
        "train_data = pd.read_csv(train_path,sep=\",\", header=None)\n",
        "test_data = pd.read_csv(test_path,sep=\",\", header=None)"
      ],
      "metadata": {
        "id": "pS0zAxV4jSEY"
      },
      "execution_count": 92,
      "outputs": []
    },
    {
      "cell_type": "markdown",
      "source": [
        "###**Assignment Part 1: Train Data Plotting**###"
      ],
      "metadata": {
        "id": "MGXqtSXq_Kth"
      }
    },
    {
      "cell_type": "code",
      "source": [
        "X = train_data[0]\n",
        "Y = train_data[1]\n",
        "cls = train_data[2]\n",
        "cl_1 = 0\n",
        "cl_2 = 0\n",
        "for i in range(len(X)):\n",
        "  if cls[i] == 1:\n",
        "    clr = 'deeppink'\n",
        "    mark='P'\n",
        "  else:\n",
        "    clr = 'teal'\n",
        "    mark='v'\n",
        "  if clr == 'deeppink' and cl_1==0:\n",
        "    cl_1=1\n",
        "    plt.scatter(X[i],Y[i],label = \"Class 1\",color = clr,marker=mark)\n",
        "    continue\n",
        "  if clr == 'teal' and cl_2 == 0:\n",
        "    cl_2=1\n",
        "    plt.scatter(X[i],Y[i],label = \"Class 2\",color = clr,marker=mark)\n",
        "    continue\n",
        "  plt.scatter(X[i],Y[i],color = clr,marker=mark)\n",
        "plt.xlabel('X')\n",
        "plt.ylabel('Y')\n",
        "plt.legend()"
      ],
      "metadata": {
        "colab": {
          "base_uri": "https://localhost:8080/",
          "height": 297
        },
        "id": "N5MqZ7cXk2op",
        "outputId": "628383bd-823b-45df-e549-95dde1d29eac"
      },
      "execution_count": 93,
      "outputs": [
        {
          "output_type": "execute_result",
          "data": {
            "text/plain": [
              "<matplotlib.legend.Legend at 0x7f236542d650>"
            ]
          },
          "metadata": {},
          "execution_count": 93
        },
        {
          "output_type": "display_data",
          "data": {
            "text/plain": [
              "<Figure size 432x288 with 1 Axes>"
            ],
            "image/png": "[encoded data removed]"
          },
          "metadata": {
            "needs_background": "light"
          }
        }
      ]
    },
    {
      "cell_type": "code",
      "source": [
        "train_data = np.array(train_data)\n",
        "test_data = np.array(test_data)"
      ],
      "metadata": {
        "id": "U0dp1ejdCqO5"
      },
      "execution_count": 94,
      "outputs": []
    },
    {
      "cell_type": "markdown",
      "source": [
        "**Taking value of K**"
      ],
      "metadata": {
        "id": "AYH_z1JzGq2S"
      }
    },
    {
      "cell_type": "code",
      "source": [
        "k = int(input(\"Enter The Number of nearest neighbors: \"))"
      ],
      "metadata": {
        "id": "q0DnQd8njswg",
        "colab": {
          "base_uri": "https://localhost:8080/"
        },
        "outputId": "d8486508-1424-407b-a1bc-ed57ebe3ef89"
      },
      "execution_count": 95,
      "outputs": [
        {
          "name": "stdout",
          "output_type": "stream",
          "text": [
            "Enter The Number of nearest neighbors: 5\n"
          ]
        }
      ]
    },
    {
      "cell_type": "markdown",
      "source": [
        "###**Assignment Part 3: Implementing KNN Algorithm and Plotting The Test Data According to Predicted Class**###"
      ],
      "metadata": {
        "id": "RlaAj9Qk_tbU"
      }
    },
    {
      "cell_type": "code",
      "source": [
        "def square_distance(a,b,x,y):\n",
        "  return np.square(a-x)+np.square(b-y)"
      ],
      "metadata": {
        "id": "_Al_YD_em4lE"
      },
      "execution_count": 96,
      "outputs": []
    },
    {
      "cell_type": "code",
      "source": [
        "def knn(x,y,printData):\n",
        "  distance = []\n",
        "  for i in range(len(train_data)):\n",
        "    val = int(square_distance(x,y,train_data[i][0],train_data[i][1]))\n",
        "    distance.append((train_data[i][2], val))\n",
        "  \n",
        "  distance.sort(key=lambda x:x[1])\n",
        "  cnt = 0\n",
        "  if printData == 1:\n",
        "    print(\"Test point:\",x,y)\n",
        "  for i in range(k):\n",
        "    if printData == 1:\n",
        "      print(\"Distance\",i+1,\":\",distance[i][1],end=\"\\t\\t\")\n",
        "      print(\"Class:\",distance[i][0])\n",
        "    if(distance[i][0] == 1):\n",
        "      cnt+=1\n",
        "    else:\n",
        "      cnt-=1\n",
        "  cls = 1\n",
        "  \n",
        "  if cnt>0:\n",
        "    if printData == 1:\n",
        "      print(\"Predicted Class: 1\")\n",
        "      print('')\n",
        "  else:\n",
        "    if printData == 1:\n",
        "      print(\"Predicted Class: 2\")\n",
        "      print('')\n",
        "    cls = 2\n",
        "  \n",
        "  return cls"
      ],
      "metadata": {
        "id": "ivcASV5-j6Pf"
      },
      "execution_count": 97,
      "outputs": []
    },
    {
      "cell_type": "code",
      "source": [
        "X = train_data[:,0]\n",
        "Y = train_data[:,1]\n",
        "cls = train_data[:,2]\n",
        "cl_1 = 0\n",
        "cl_2 = 0\n",
        "for i in range(len(train_data)):\n",
        "  if cls[i] == 1:\n",
        "    clr = 'darkolivegreen'\n",
        "    mark='x'\n",
        "  else:\n",
        "    clr = 'cadetblue'\n",
        "    mark='s'\n",
        "  if clr == 'darkolivegreen' and cl_1==0:\n",
        "    cl_1=1\n",
        "    plt.scatter(X[i],Y[i],label = \"Class 1\",color = clr,marker=mark)\n",
        "    continue\n",
        "  if clr == 'cadetblue' and cl_2 == 0:\n",
        "    cl_2=1\n",
        "    plt.scatter(X[i],Y[i],label = \"Class 2\",color = clr,marker=mark)\n",
        "    continue\n",
        "  plt.scatter(X[i],Y[i],color = clr,marker=mark)\n",
        "\n",
        "\n",
        "cl_1 = 0\n",
        "cl_2 = 0\n",
        "for i in range(len(test_data)):\n",
        "  p1 = test_data[i][0]\n",
        "  p2 = test_data[i][1]\n",
        "  pr_cls = knn(p1,p2,0)\n",
        "  if pr_cls == 1:\n",
        "    clr = 'crimson'\n",
        "    mark='D'\n",
        "  else:\n",
        "    clr = 'navy'\n",
        "    mark='*'\n",
        "  if clr == 'crimson' and cl_1==0:\n",
        "    cl_1=1\n",
        "    plt.scatter(p1,p2,label = \"Predicted Class 1\",color = clr,marker=mark)\n",
        "    continue\n",
        "  if clr == 'navy' and cl_2 == 0:\n",
        "    cl_2=1\n",
        "    plt.scatter(p1,p2,label = \"Predicted Class 2\",color = clr,marker=mark)\n",
        "    continue\n",
        "  plt.scatter(p1,p2,color = clr,marker=mark)\n",
        "plt.xlabel('X')\n",
        "plt.ylabel('Y')\n",
        "plt.legend(loc=\"best\",fontsize = \"small\")\n",
        "plt.show()"
      ],
      "metadata": {
        "colab": {
          "base_uri": "https://localhost:8080/",
          "height": 279
        },
        "id": "s4N---2Op_CV",
        "outputId": "20f8ebf9-3c0b-4956-f664-6e4a45f7c0e0"
      },
      "execution_count": 98,
      "outputs": [
        {
          "output_type": "display_data",
          "data": {
            "text/plain": [
              "<Figure size 432x288 with 1 Axes>"
            ],
            "image/png": "[encoded data removed]"
          },
          "metadata": {
            "needs_background": "light"
          }
        }
      ]
    },
    {
      "cell_type": "markdown",
      "source": [
        "###**Assignment Part 3: Printing Top K Distances Along with Their Class Labels and Predicted Class for Each Test Data.**###\n",
        "\n",
        "\n",
        "\n"
      ],
      "metadata": {
        "id": "8IXnl_ozCLXJ"
      }
    },
    {
      "cell_type": "code",
      "source": [
        "for i in range(len(test_data)):\n",
        "  p1 = test_data[i][0]\n",
        "  p2 = test_data[i][1]\n",
        "  pr_cls = knn(p1,p2,1)"
      ],
      "metadata": {
        "colab": {
          "base_uri": "https://localhost:8080/"
        },
        "id": "oHnu02G7BeRV",
        "outputId": "b205355f-cf7b-436b-e4de-6275c5467383"
      },
      "execution_count": 99,
      "outputs": [
        {
          "output_type": "stream",
          "name": "stdout",
          "text": [
            "Test point: 3 7\n",
            "Distance 1 : 9\t\tClass: 1\n",
            "Distance 2 : 9\t\tClass: 2\n",
            "Distance 3 : 10\t\tClass: 1\n",
            "Distance 4 : 10\t\tClass: 2\n",
            "Distance 5 : 13\t\tClass: 2\n",
            "Predicted Class: 2\n",
            "\n",
            "Test point: 7 7\n",
            "Distance 1 : 0\t\tClass: 1\n",
            "Distance 2 : 1\t\tClass: 1\n",
            "Distance 3 : 1\t\tClass: 1\n",
            "Distance 4 : 2\t\tClass: 1\n",
            "Distance 5 : 4\t\tClass: 1\n",
            "Predicted Class: 1\n",
            "\n",
            "Test point: 4 3\n",
            "Distance 1 : 0\t\tClass: 2\n",
            "Distance 2 : 1\t\tClass: 2\n",
            "Distance 3 : 1\t\tClass: 2\n",
            "Distance 4 : 2\t\tClass: 2\n",
            "Distance 5 : 2\t\tClass: 2\n",
            "Predicted Class: 2\n",
            "\n",
            "Test point: 2 8\n",
            "Distance 1 : 17\t\tClass: 1\n",
            "Distance 2 : 17\t\tClass: 2\n",
            "Distance 3 : 17\t\tClass: 2\n",
            "Distance 4 : 20\t\tClass: 1\n",
            "Distance 5 : 20\t\tClass: 2\n",
            "Predicted Class: 2\n",
            "\n",
            "Test point: 3 5\n",
            "Distance 1 : 1\t\tClass: 2\n",
            "Distance 2 : 2\t\tClass: 2\n",
            "Distance 3 : 4\t\tClass: 2\n",
            "Distance 4 : 5\t\tClass: 2\n",
            "Distance 5 : 5\t\tClass: 2\n",
            "Predicted Class: 2\n",
            "\n",
            "Test point: 1 2\n",
            "Distance 1 : 2\t\tClass: 2\n",
            "Distance 2 : 4\t\tClass: 2\n",
            "Distance 3 : 4\t\tClass: 2\n",
            "Distance 4 : 5\t\tClass: 2\n",
            "Distance 5 : 8\t\tClass: 2\n",
            "Predicted Class: 2\n",
            "\n",
            "Test point: 4 8\n",
            "Distance 1 : 5\t\tClass: 1\n",
            "Distance 2 : 8\t\tClass: 1\n",
            "Distance 3 : 10\t\tClass: 1\n",
            "Distance 4 : 13\t\tClass: 1\n",
            "Distance 5 : 16\t\tClass: 2\n",
            "Predicted Class: 1\n",
            "\n",
            "Test point: 8 3\n",
            "Distance 1 : 2\t\tClass: 1\n",
            "Distance 2 : 5\t\tClass: 1\n",
            "Distance 3 : 5\t\tClass: 1\n",
            "Distance 4 : 10\t\tClass: 1\n",
            "Distance 5 : 13\t\tClass: 1\n",
            "Predicted Class: 1\n",
            "\n",
            "Test point: 8 4\n",
            "Distance 1 : 1\t\tClass: 1\n",
            "Distance 2 : 2\t\tClass: 1\n",
            "Distance 3 : 4\t\tClass: 1\n",
            "Distance 4 : 5\t\tClass: 1\n",
            "Distance 5 : 8\t\tClass: 1\n",
            "Predicted Class: 1\n",
            "\n"
          ]
        }
      ]
    }
  ]
}