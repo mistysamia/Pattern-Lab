{
  "nbformat": 4,
  "nbformat_minor": 0,
  "metadata": {
    "colab": {
      "name": "PR_Lab1.ipynb",
      "provenance": [],
      "collapsed_sections": []
    },
    "kernelspec": {
      "display_name": "Python 3",
      "language": "python",
      "name": "python3"
    },
    "language_info": {
      "codemirror_mode": {
        "name": "ipython",
        "version": 3
      },
      "file_extension": ".py",
      "mimetype": "text/x-python",
      "name": "python",
      "nbconvert_exporter": "python",
      "pygments_lexer": "ipython3",
      "version": "3.7.4"
    },
    "accelerator": "GPU"
  },
  "cells": [
    {
      "cell_type": "markdown",
      "source": [
        "gcgcdgdfgdgdgdgdg\n",
        "\n",
        "\n",
        "1.  chfhf\n",
        "2.  fhgfhf\n",
        "\n",
        "\n",
        "\n",
        "\n",
        "\n",
        "\n",
        "\n"
      ],
      "metadata": {
        "id": "JYSnWJzsKgWA"
      }
    },
    {
      "cell_type": "markdown",
      "source": [
        "bbcbdgdg\n",
        "\n",
        "\n",
        "1.   List item\n",
        "2.   List item\n",
        "\n"
      ],
      "metadata": {
        "id": "Onn3e22RV0Q0"
      }
    },
    {
      "cell_type": "code",
      "source": [
        ""
      ],
      "metadata": {
        "id": "Ex3oImHKV4e7"
      },
      "execution_count": null,
      "outputs": []
    },
    {
      "cell_type": "markdown",
      "source": [
        "tdgdgd..ddye.ehjiet ekjtkoejtoeoejeotjeotj\n",
        "\n",
        "\n",
        "1.   List item\n",
        "2.   List item\n",
        "\n",
        "\n"
      ],
      "metadata": {
        "id": "rqV3KU96NHk6"
      }
    },
    {
      "cell_type": "code",
      "metadata": {
        "id": "Mo3GzmDLNsp9",
        "colab": {
          "base_uri": "https://localhost:8080/"
        },
        "outputId": "9abdbcc0-6f85-46da-c884-91ee0f38e1fb"
      },
      "source": [
        "print(\"Hello There\")"
      ],
      "execution_count": null,
      "outputs": [
        {
          "output_type": "stream",
          "name": "stdout",
          "text": [
            "Hello There\n"
          ]
        }
      ]
    },
    {
      "cell_type": "code",
      "metadata": {
        "id": "po9QaYLZOfTy",
        "colab": {
          "base_uri": "https://localhost:8080/"
        },
        "outputId": "1a5157e4-40e3-43b0-bddb-34ca7c5fe539"
      },
      "source": [
        "\"\"\"\n",
        "  sample Comments\n",
        "  gkl;df;gjdfg kljkl\n",
        "  kljfnnk\n",
        "  jklsnfjknsdjknf\n",
        "  fklsdjnfsdlfnklsfnl\n",
        "\"\"\"\n",
        "\n",
        "print(\"hellow world\")"
      ],
      "execution_count": null,
      "outputs": [
        {
          "output_type": "stream",
          "name": "stdout",
          "text": [
            "hellow world\n"
          ]
        }
      ]
    },
    {
      "cell_type": "markdown",
      "metadata": {
        "id": "wP9Fg_kzPF-J"
      },
      "source": [
        "We use print() frequently in any code snippet. \n",
        "print() will help us to find any error in our $log$ file."
      ]
    },
    {
      "cell_type": "code",
      "metadata": {
        "id": "XhKB8wkXOzRT",
        "colab": {
          "base_uri": "https://localhost:8080/"
        },
        "outputId": "392d0851-d51e-4d63-f810-d0c9d7ddad7a"
      },
      "source": [
        "cse_4_2 = [1, 2, 3, 4,'fsdfsd', 2.222]\n",
        "print(cse_4_2)\n",
        "print(type(cse_4_2))"
      ],
      "execution_count": null,
      "outputs": [
        {
          "output_type": "stream",
          "name": "stdout",
          "text": [
            "[1, 2, 3, 4, 'fsdfsd', 2.222]\n",
            "<class 'list'>\n"
          ]
        }
      ]
    },
    {
      "cell_type": "code",
      "source": [
        "len(cse_4_2)"
      ],
      "metadata": {
        "colab": {
          "base_uri": "https://localhost:8080/"
        },
        "id": "bTNM-W7ROILr",
        "outputId": "59510bc5-5913-435f-fcf6-cf56765e28bc"
      },
      "execution_count": null,
      "outputs": [
        {
          "output_type": "execute_result",
          "data": {
            "text/plain": [
              "6"
            ]
          },
          "metadata": {},
          "execution_count": 7
        }
      ]
    },
    {
      "cell_type": "code",
      "metadata": {
        "id": "QiZbX20VQVxr",
        "colab": {
          "base_uri": "https://localhost:8080/"
        },
        "outputId": "6539cb9b-5510-47d8-8714-88ee6d0f2fdd"
      },
      "source": [
        "# for i in cse_4_2:\n",
        "#     print(i)\n",
        "\n",
        "for i in range(len(cse_4_2)):\n",
        "  print(cse_4_2[i])"
      ],
      "execution_count": null,
      "outputs": [
        {
          "output_type": "stream",
          "name": "stdout",
          "text": [
            "1\n",
            "2\n",
            "3\n",
            "4\n",
            "fsdfsd\n",
            "2.222\n"
          ]
        }
      ]
    },
    {
      "cell_type": "code",
      "metadata": {
        "id": "UNXm4NCWQtGx",
        "colab": {
          "base_uri": "https://localhost:8080/"
        },
        "outputId": "a5b81048-6692-4438-c596-a70e24fbab09"
      },
      "source": [
        "# list1 = [1, 2, 3, 0, 5, 6]\n",
        "list1 = [0,0,0]\n",
        "\n",
        "\n",
        "# # any will return true if any of the sequence values are true\n",
        "print(any(list1))\n",
        "\n",
        "# # all will return true only if all values are true\n",
        "print(all(list1))"
      ],
      "execution_count": null,
      "outputs": [
        {
          "output_type": "stream",
          "name": "stdout",
          "text": [
            "False\n",
            "False\n"
          ]
        }
      ]
    },
    {
      "cell_type": "code",
      "metadata": {
        "id": "WdjsR6gORSe7",
        "colab": {
          "base_uri": "https://localhost:8080/"
        },
        "outputId": "64dbb08a-3fba-46b8-f534-8d0a73f5f136"
      },
      "source": [
        "list1 = [1, 2, 3, 0, 5, 6]\n",
        "\n",
        "# # min and max will return minimum and maximum values in a sequence\n",
        "print(\"min: \", min(list1))\n",
        "print(\"max: \", max(list1))\n",
        "# # \n",
        "# # Use sum() to sum up all of the values in a sequence\n",
        "print(\"sum: \", sum(list1))"
      ],
      "execution_count": null,
      "outputs": [
        {
          "output_type": "stream",
          "name": "stdout",
          "text": [
            "min:  0\n",
            "max:  6\n",
            "sum:  17\n"
          ]
        }
      ]
    },
    {
      "cell_type": "code",
      "metadata": {
        "id": "jVFm8_AiRr5z",
        "colab": {
          "base_uri": "https://localhost:8080/"
        },
        "outputId": "ae3c6cc8-72b2-43e0-89cc-4805d11a0c84"
      },
      "source": [
        "# Iterating Over the Items of a List\n",
        "L = ['Tony was chased', 'Bruce was angered', 'Steven was scared ']\n",
        "# print each string in the list L\n",
        "for x in L:\n",
        "    print(x)\n",
        "for i in range(len(L)):\n",
        "  print(L[i])"
      ],
      "execution_count": null,
      "outputs": [
        {
          "output_type": "stream",
          "name": "stdout",
          "text": [
            "Tony was chased\n",
            "Bruce was angered\n",
            "Steven was scared \n",
            "Tony was chased\n",
            "Bruce was angered\n",
            "Steven was scared \n"
          ]
        }
      ]
    },
    {
      "cell_type": "code",
      "metadata": {
        "id": "qecxPRfdR-OM",
        "colab": {
          "base_uri": "https://localhost:8080/"
        },
        "outputId": "65374863-13b4-47d3-ee5f-59f0133d6bc2"
      },
      "source": [
        "#@title 0, 1, 2\n",
        "for i in range (len (L)):\n",
        "    L[i] = L[i] + ' by zombies.'\n",
        "\n",
        "for x in L:\n",
        "    print(x)"
      ],
      "execution_count": null,
      "outputs": [
        {
          "output_type": "stream",
          "name": "stdout",
          "text": [
            "Tony was chased by zombies.\n",
            "Bruce was angered by zombies.\n",
            "Steven was scared  by zombies.\n"
          ]
        }
      ]
    },
    {
      "cell_type": "code",
      "metadata": {
        "id": "OfQYsAYt-RHT",
        "colab": {
          "base_uri": "https://localhost:8080/"
        },
        "outputId": "0cd5d354-fb93-411b-abce-24a7ed583645"
      },
      "source": [
        "x = [1, 2, 3]\n",
        "x.append([4, 5]) # [1,2,3,[4, 5]]\n",
        "print(x)\n",
        "x.extend([8, 9])\n",
        "print(x)\n",
        "x.append(5)\n",
        "print(x)"
      ],
      "execution_count": null,
      "outputs": [
        {
          "output_type": "stream",
          "name": "stdout",
          "text": [
            "[1, 2, 3, [4, 5]]\n",
            "[1, 2, 3, [4, 5], 8, 9]\n",
            "[1, 2, 3, [4, 5], 8, 9, 5]\n"
          ]
        }
      ]
    },
    {
      "cell_type": "code",
      "metadata": {
        "id": "90fDG8dr_Ffn",
        "scrolled": true,
        "colab": {
          "base_uri": "https://localhost:8080/"
        },
        "outputId": "9ca3eea9-300b-4e98-bdcd-41cbd986e396"
      },
      "source": [
        "# # define a list of days in English and French\n",
        "days = [\"Sun\", \"Mon\", \"Tue\", \"Wed\", \"Thu\", \"Fri\", \"Sat\"]\n",
        "daysFr = [\"Dim\", \"Lun\", \"Mar\", \"Mer\", \"Jeu\", \"Ven\", \"Sam\"]\n",
        "# # use regular interation over the days\n",
        "for m in range(len(days)):\n",
        "    print(days[m],m)"
      ],
      "execution_count": null,
      "outputs": [
        {
          "output_type": "stream",
          "name": "stdout",
          "text": [
            "Sun 0\n",
            "Mon 1\n",
            "Tue 2\n",
            "Wed 3\n",
            "Thu 4\n",
            "Fri 5\n",
            "Sat 6\n"
          ]
        }
      ]
    },
    {
      "cell_type": "code",
      "source": [
        "# using enumerate reduces code and provides a counter\n",
        "days = [\"Sun\", \"Mon\", \"Tue\", \"Wed\", \"Thu\", \"Fri\", \"Sat\"]\n",
        "print(list(enumerate(days)))"
      ],
      "metadata": {
        "colab": {
          "base_uri": "https://localhost:8080/"
        },
        "id": "8IoADOf9RR90",
        "outputId": "35fdbc7f-780c-485e-80fc-06b3d5fef75f"
      },
      "execution_count": null,
      "outputs": [
        {
          "output_type": "stream",
          "name": "stdout",
          "text": [
            "[(0, 'Sun'), (1, 'Mon'), (2, 'Tue'), (3, 'Wed'), (4, 'Thu'), (5, 'Fri'), (6, 'Sat')]\n"
          ]
        }
      ]
    },
    {
      "cell_type": "code",
      "source": [
        "a = [4,5,6]\n",
        "a[2] = 99"
      ],
      "metadata": {
        "id": "srHCdu5oaXI9"
      },
      "execution_count": null,
      "outputs": []
    },
    {
      "cell_type": "code",
      "metadata": {
        "id": "0zMrbSnH_Mje",
        "colab": {
          "base_uri": "https://localhost:8080/"
        },
        "outputId": "345e1576-dabd-4444-a562-06d72246dc1f"
      },
      "source": [
        "# using enumerate reduces code and provides a counter\n",
        "days = [\"Sun\", \"Mon\", \"Tue\", \"Wed\", \"Thu\", \"Fri\", \"Sat\"]\n",
        "\n",
        "for x in enumerate(days):\n",
        "    print(type(x))"
      ],
      "execution_count": null,
      "outputs": [
        {
          "output_type": "stream",
          "name": "stdout",
          "text": [
            "<class 'tuple'>\n",
            "<class 'tuple'>\n",
            "<class 'tuple'>\n",
            "<class 'tuple'>\n",
            "<class 'tuple'>\n",
            "<class 'tuple'>\n",
            "<class 'tuple'>\n"
          ]
        }
      ]
    },
    {
      "cell_type": "code",
      "source": [
        "lst = (1,2,3)\n",
        "lst[1] = 99\n",
        "lst"
      ],
      "metadata": {
        "colab": {
          "base_uri": "https://localhost:8080/",
          "height": 201
        },
        "id": "E-ilsHYcSEX7",
        "outputId": "0bfdc076-1c69-4ce0-c076-4db088932543"
      },
      "execution_count": null,
      "outputs": [
        {
          "output_type": "error",
          "ename": "TypeError",
          "evalue": "ignored",
          "traceback": [
            "\u001b[0;31m---------------------------------------------------------------------------\u001b[0m",
            "\u001b[0;31mTypeError\u001b[0m                                 Traceback (most recent call last)",
            "\u001b[0;32m<ipython-input-24-9ce5ebe5c917>\u001b[0m in \u001b[0;36m<module>\u001b[0;34m()\u001b[0m\n\u001b[1;32m      1\u001b[0m \u001b[0mlst\u001b[0m \u001b[0;34m=\u001b[0m \u001b[0;34m(\u001b[0m\u001b[0;36m1\u001b[0m\u001b[0;34m,\u001b[0m\u001b[0;36m2\u001b[0m\u001b[0;34m,\u001b[0m\u001b[0;36m3\u001b[0m\u001b[0;34m)\u001b[0m\u001b[0;34m\u001b[0m\u001b[0;34m\u001b[0m\u001b[0m\n\u001b[0;32m----> 2\u001b[0;31m \u001b[0mlst\u001b[0m\u001b[0;34m[\u001b[0m\u001b[0;36m1\u001b[0m\u001b[0;34m]\u001b[0m \u001b[0;34m=\u001b[0m \u001b[0;36m99\u001b[0m\u001b[0;34m\u001b[0m\u001b[0;34m\u001b[0m\u001b[0m\n\u001b[0m\u001b[1;32m      3\u001b[0m \u001b[0mlst\u001b[0m\u001b[0;34m\u001b[0m\u001b[0;34m\u001b[0m\u001b[0m\n",
            "\u001b[0;31mTypeError\u001b[0m: 'tuple' object does not support item assignment"
          ]
        }
      ]
    },
    {
      "cell_type": "code",
      "source": [
        "l1 = [1,2,3,5,5]\n",
        "l2 = ['a','b','c','d']\n",
        "\n",
        "list(zip(l1,l2))\n",
        "\n"
      ],
      "metadata": {
        "colab": {
          "base_uri": "https://localhost:8080/"
        },
        "id": "OwmeQjFIbRUE",
        "outputId": "99609c81-a722-4701-aca0-a47f4d9e089e"
      },
      "execution_count": null,
      "outputs": [
        {
          "output_type": "execute_result",
          "data": {
            "text/plain": [
              "[(1, 'a'), (2, 'b'), (3, 'c'), (5, 'd')]"
            ]
          },
          "metadata": {},
          "execution_count": 26
        }
      ]
    },
    {
      "cell_type": "code",
      "metadata": {
        "id": "zm42b8K9_S_W",
        "colab": {
          "base_uri": "https://localhost:8080/"
        },
        "outputId": "4f7b5ea3-dc38-4243-abd7-9ff37a7d4227"
      },
      "source": [
        "# # use zip to combine sequences\n",
        "days = [\"Sun\", \"Mon\", \"Tue\", \"Wed\", \"Thu\", \"Fri\", \"Sat\"]\n",
        "daysFr = [\"Dim\", \"Lun\", \"Mar\", \"Mer\"]\n",
        "daysGR = [\"Dim\", \"Lun\", \"Mar\", \"Mer\", \"Jeu\", \"Ven\", \"Sam\"]\n",
        "\n",
        "for m in zip(days,daysFr,daysGR):\n",
        "    print(m)"
      ],
      "execution_count": null,
      "outputs": [
        {
          "output_type": "stream",
          "name": "stdout",
          "text": [
            "('Sun', 'Dim', 'Dim')\n",
            "('Mon', 'Lun', 'Lun')\n",
            "('Tue', 'Mar', 'Mar')\n",
            "('Wed', 'Mer', 'Mer')\n"
          ]
        }
      ]
    },
    {
      "cell_type": "code",
      "source": [
        "list(enumerate(zip(days, daysGR, daysFr)))"
      ],
      "metadata": {
        "colab": {
          "base_uri": "https://localhost:8080/"
        },
        "id": "Or6VGCM5czoR",
        "outputId": "275f5cdb-9375-409e-a402-2d9c41a9e344"
      },
      "execution_count": null,
      "outputs": [
        {
          "output_type": "execute_result",
          "data": {
            "text/plain": [
              "[(0, ('Sun', 'Dim', 'Dim')),\n",
              " (1, ('Mon', 'Lun', 'Lun')),\n",
              " (2, ('Tue', 'Mar', 'Mar')),\n",
              " (3, ('Wed', 'Mer', 'Mer'))]"
            ]
          },
          "metadata": {},
          "execution_count": 29
        }
      ]
    },
    {
      "cell_type": "code",
      "metadata": {
        "id": "BtUjEDlF_cEl",
        "colab": {
          "base_uri": "https://localhost:8080/"
        },
        "outputId": "41078cf7-1b29-4bf0-eb22-faa64b22b6dd"
      },
      "source": [
        "for i, m in enumerate(zip(days, daysGR, daysFr), start=10):\n",
        "  print(m,i)\n",
        "   "
      ],
      "execution_count": null,
      "outputs": [
        {
          "output_type": "stream",
          "name": "stdout",
          "text": [
            "('Sun', 'Dim', 'Dim') 10\n",
            "('Mon', 'Lun', 'Lun') 11\n",
            "('Tue', 'Mar', 'Mar') 12\n",
            "('Wed', 'Mer', 'Mer') 13\n"
          ]
        }
      ]
    },
    {
      "cell_type": "code",
      "metadata": {
        "id": "TeKbVfWd_ha4",
        "colab": {
          "base_uri": "https://localhost:8080/"
        },
        "outputId": "3e3b5794-258a-4b2b-d72e-03a68cf42c8f"
      },
      "source": [
        "for jj, em in enumerate(days):\n",
        "    print(em, jj)"
      ],
      "execution_count": null,
      "outputs": [
        {
          "output_type": "stream",
          "name": "stdout",
          "text": [
            "Sun 0\n",
            "Mon 1\n",
            "Tue 2\n",
            "Wed 3\n",
            "Thu 4\n",
            "Fri 5\n",
            "Sat 6\n"
          ]
        }
      ]
    },
    {
      "cell_type": "code",
      "metadata": {
        "id": "BY57bS6v_nim",
        "colab": {
          "base_uri": "https://localhost:8080/"
        },
        "outputId": "21648b06-18ef-480b-8f2f-31011790a7d5"
      },
      "source": [
        "'''\n",
        "    Tuples are identical to lists, with the following exceptions:\n",
        "        Tuples are immutable.\n",
        "        Tuples are written with parentheses instead of square brackets.\n",
        "'''\n",
        "days = [\"Sun\", \"Mon\", \"Tue\", \"Wed\", \"Thu\", \"Fri\", \"Sat\"]\n",
        "daysFr = [\"Dim\", \"Lun\", \"Mar\", \"Mer\"]\n",
        "for i, m in enumerate(zip(days, daysFr), start=1):\n",
        "    print(m, type(m), i)\n",
        "   "
      ],
      "execution_count": null,
      "outputs": [
        {
          "output_type": "stream",
          "name": "stdout",
          "text": [
            "('Sun', 'Dim') <class 'tuple'> 1\n",
            "('Mon', 'Lun') <class 'tuple'> 2\n",
            "('Tue', 'Mar') <class 'tuple'> 3\n",
            "('Wed', 'Mer') <class 'tuple'> 4\n"
          ]
        }
      ]
    },
    {
      "cell_type": "code",
      "metadata": {
        "id": "G1CI_rD2_2Q2",
        "colab": {
          "base_uri": "https://localhost:8080/"
        },
        "outputId": "df8303fa-7687-487f-d1ba-e26a7a606480"
      },
      "source": [
        "# use iter to create an iterator over a collection\n",
        "i = iter(days)\n",
        "print(next(i))  # Sun\n",
        "print(next(i))  # Mon\n",
        "print(next(i))  # Tue\n",
        "print(next(i)) \n",
        "print(next(i)) "
      ],
      "execution_count": null,
      "outputs": [
        {
          "output_type": "stream",
          "name": "stdout",
          "text": [
            "Sun\n",
            "Mon\n",
            "Tue\n",
            "Wed\n",
            "Thu\n"
          ]
        }
      ]
    },
    {
      "cell_type": "code",
      "source": [
        "j = iter(days)\n",
        "\n",
        "for i in range(len(days)):\n",
        "  print(next(j))"
      ],
      "metadata": {
        "colab": {
          "base_uri": "https://localhost:8080/"
        },
        "id": "VHIwqLTeeh-I",
        "outputId": "0552969c-33f3-4248-cba6-a19f97e025ed"
      },
      "execution_count": null,
      "outputs": [
        {
          "output_type": "stream",
          "name": "stdout",
          "text": [
            "Sun\n",
            "Mon\n",
            "Tue\n",
            "Wed\n",
            "Thu\n",
            "Fri\n",
            "Sat\n"
          ]
        }
      ]
    },
    {
      "cell_type": "markdown",
      "metadata": {
        "id": "2qhbz4JFAPsO"
      },
      "source": [
        "Demonstrate how to use set comprehensions"
      ]
    },
    {
      "cell_type": "code",
      "source": [
        "ctemps = [5, 10, 12, 14, 10, 23, 41, 30, 12, 24, 12, 18, 29]\n",
        "ftemps = []\n",
        "for temp in ctemps:\n",
        "  x = (temp * 9/5) + 32\n",
        "  ftemps.append(x)\n",
        "print(ftemps)\n"
      ],
      "metadata": {
        "colab": {
          "base_uri": "https://localhost:8080/"
        },
        "id": "fJcwl4QDS9us",
        "outputId": "b75ff49c-46f6-4a49-fdaa-0abb7dddb2cb"
      },
      "execution_count": null,
      "outputs": [
        {
          "output_type": "stream",
          "name": "stdout",
          "text": [
            "[41.0, 50.0, 53.6, 57.2, 50.0, 73.4, 105.8, 86.0, 53.6, 75.2, 53.6, 64.4, 84.2]\n"
          ]
        }
      ]
    },
    {
      "cell_type": "code",
      "source": [
        "s = {1,2,3}\n",
        "for element in s:\n",
        "  print(element)"
      ],
      "metadata": {
        "colab": {
          "base_uri": "https://localhost:8080/"
        },
        "id": "zSw94AjOVV_a",
        "outputId": "904b625c-b0bd-419c-c8d4-9c0edd0855b8"
      },
      "execution_count": null,
      "outputs": [
        {
          "output_type": "stream",
          "name": "stdout",
          "text": [
            "1\n",
            "2\n",
            "3\n"
          ]
        }
      ]
    },
    {
      "cell_type": "code",
      "source": [
        "l = [5,10,15,20]\n",
        "l2 = [t*3 for t in l]\n",
        "l2"
      ],
      "metadata": {
        "colab": {
          "base_uri": "https://localhost:8080/"
        },
        "id": "Nc3uUtpAh820",
        "outputId": "2a794df2-da8a-4b5a-e72e-9d62b114a1fd"
      },
      "execution_count": null,
      "outputs": [
        {
          "output_type": "execute_result",
          "data": {
            "text/plain": [
              "[15, 30, 45, 60]"
            ]
          },
          "metadata": {},
          "execution_count": 33
        }
      ]
    },
    {
      "cell_type": "code",
      "metadata": {
        "id": "KxbGzv3mAA4U",
        "colab": {
          "base_uri": "https://localhost:8080/"
        },
        "outputId": "3d9c65f4-8e0f-42ef-826f-8e11135cb738"
      },
      "source": [
        "ctemps = [5, 10, 12, 14, 10, 23, 41, 30, 12, 24, 12, 18, 29]\n",
        "\n",
        "# build a set of unique Fahrenheit temperatures\n",
        "ftemps1 = [ (t * 9/5) + 32 for t in ctemps ]\n",
        "ftemps2 = { (t * 9/5) + 32 for t in ctemps }\n",
        "\n",
        "print(ftemps1, type(ftemps1)) # Did you think both are the same?\n",
        "print(ftemps2, type(ftemps2))"
      ],
      "execution_count": null,
      "outputs": [
        {
          "output_type": "stream",
          "name": "stdout",
          "text": [
            "[41.0, 50.0, 53.6, 57.2, 50.0, 73.4, 105.8, 86.0, 53.6, 75.2, 53.6, 64.4, 84.2] <class 'list'>\n",
            "{64.4, 73.4, 41.0, 105.8, 75.2, 50.0, 84.2, 53.6, 86.0, 57.2} <class 'set'>\n"
          ]
        }
      ]
    },
    {
      "cell_type": "code",
      "source": [
        "lst1 = list(range(1,101))\n",
        "print(lst1)\n",
        "lst2 = [item**2 for item in lst1]\n",
        "print(lst2)"
      ],
      "metadata": {
        "colab": {
          "base_uri": "https://localhost:8080/"
        },
        "id": "GDlW5C0DXfw3",
        "outputId": "77e08bf6-efb9-49c4-a990-8a037701418b"
      },
      "execution_count": null,
      "outputs": [
        {
          "output_type": "stream",
          "name": "stdout",
          "text": [
            "[1, 2, 3, 4, 5, 6, 7, 8, 9, 10, 11, 12, 13, 14, 15, 16, 17, 18, 19, 20, 21, 22, 23, 24, 25, 26, 27, 28, 29, 30, 31, 32, 33, 34, 35, 36, 37, 38, 39, 40, 41, 42, 43, 44, 45, 46, 47, 48, 49, 50, 51, 52, 53, 54, 55, 56, 57, 58, 59, 60, 61, 62, 63, 64, 65, 66, 67, 68, 69, 70, 71, 72, 73, 74, 75, 76, 77, 78, 79, 80, 81, 82, 83, 84, 85, 86, 87, 88, 89, 90, 91, 92, 93, 94, 95, 96, 97, 98, 99, 100]\n",
            "[1, 4, 9, 16, 25, 36, 49, 64, 81, 100, 121, 144, 169, 196, 225, 256, 289, 324, 361, 400, 441, 484, 529, 576, 625, 676, 729, 784, 841, 900, 961, 1024, 1089, 1156, 1225, 1296, 1369, 1444, 1521, 1600, 1681, 1764, 1849, 1936, 2025, 2116, 2209, 2304, 2401, 2500, 2601, 2704, 2809, 2916, 3025, 3136, 3249, 3364, 3481, 3600, 3721, 3844, 3969, 4096, 4225, 4356, 4489, 4624, 4761, 4900, 5041, 5184, 5329, 5476, 5625, 5776, 5929, 6084, 6241, 6400, 6561, 6724, 6889, 7056, 7225, 7396, 7569, 7744, 7921, 8100, 8281, 8464, 8649, 8836, 9025, 9216, 9409, 9604, 9801, 10000]\n"
          ]
        }
      ]
    },
    {
      "cell_type": "code",
      "source": [
        "for elem in ftemps2:\n",
        "  print(elem)"
      ],
      "metadata": {
        "colab": {
          "base_uri": "https://localhost:8080/"
        },
        "id": "8rIDhOzRUg2x",
        "outputId": "ec56dbe5-60cc-4211-848b-c7246ad7d951"
      },
      "execution_count": null,
      "outputs": [
        {
          "output_type": "stream",
          "name": "stdout",
          "text": [
            "64.4\n",
            "73.4\n",
            "41.0\n",
            "105.8\n",
            "75.2\n",
            "50.0\n",
            "84.2\n",
            "53.6\n",
            "86.0\n",
            "57.2\n"
          ]
        }
      ]
    },
    {
      "cell_type": "markdown",
      "metadata": {
        "id": "RKblTLmiBV8u"
      },
      "source": [
        "#build a set from an input source\n",
        "sTemp = \"The quick brown fox jumped over the lazy dog\""
      ]
    },
    {
      "cell_type": "code",
      "metadata": {
        "cellView": "both",
        "colab": {
          "base_uri": "https://localhost:8080/"
        },
        "id": "6SCPoW5XAbd0",
        "outputId": "c8cc6401-3170-4fff-bdd8-b16cd54f0a82"
      },
      "source": [
        "\n",
        "# build a set from an input source\n",
        "sTemp = \"The quick brown fox jumped over the lazy dogs\"\n",
        "chars1 = {c for c in sTemp if not c.isspace()}\n",
        "chars = {c.upper() for c in sTemp if not c.isspace()}\n",
        "\n",
        "print(len(chars1) )\n",
        "print(chars1)\n",
        "print(len(chars), type(chars))\n",
        "print(chars)"
      ],
      "execution_count": null,
      "outputs": [
        {
          "output_type": "stream",
          "name": "stdout",
          "text": [
            "27\n",
            "{'z', 'y', 'p', 'a', 't', 'r', 'T', 'o', 'b', 'j', 'i', 'd', 'l', 's', 'k', 'v', 'f', 'w', 'c', 'n', 'h', 'x', 'u', 'e', 'm', 'g', 'q'}\n",
            "26 <class 'set'>\n",
            "{'U', 'C', 'E', 'D', 'B', 'T', 'Y', 'M', 'R', 'X', 'V', 'H', 'P', 'S', 'I', 'G', 'L', 'W', 'J', 'F', 'Q', 'A', 'K', 'O', 'Z', 'N'}\n"
          ]
        }
      ]
    },
    {
      "cell_type": "markdown",
      "metadata": {
        "id": "4fECC-LnBxHS"
      },
      "source": [
        "# Lambda expression"
      ]
    },
    {
      "cell_type": "markdown",
      "metadata": {
        "id": "ycRDLeb5B4Wy"
      },
      "source": [
        "* lambda arguments : expression\n",
        "* anonymous functions; accept multiple arguments but expression should be one"
      ]
    },
    {
      "cell_type": "code",
      "metadata": {
        "colab": {
          "base_uri": "https://localhost:8080/"
        },
        "id": "_n0yeRfZ9vXo",
        "outputId": "6e5e507a-741d-4525-da20-9150c6b691d7"
      },
      "source": [
        "new_lambda_test = lambda q, w, y, z : q + w + y + z + 10\n",
        "print(new_lambda_test(20, 20, 20, 20))"
      ],
      "execution_count": null,
      "outputs": [
        {
          "output_type": "stream",
          "name": "stdout",
          "text": [
            "90\n"
          ]
        }
      ]
    },
    {
      "cell_type": "code",
      "metadata": {
        "id": "SW9qQ8ysBJyx",
        "colab": {
          "base_uri": "https://localhost:8080/"
        },
        "outputId": "726ff4c5-ed86-49ea-a5ed-036a5cd4bad7"
      },
      "source": [
        "lambda_test = lambda a : a + 10\n",
        "print(lambda_test(5))\n",
        "\n",
        "new_lambda_test = lambda q, w, y, z : q + w + y + z + 10\n",
        "print(new_lambda_test(20, 20, 20, 20))\n",
        "\n",
        "pairs = [(1, 'one'), (2, 'two'), (3, 'three'), (4, 'four')]\n",
        "pairs.sort(key=lambda pair: pair[1] , reverse = True) # Look carefully..\n",
        "print(pairs)"
      ],
      "execution_count": null,
      "outputs": [
        {
          "output_type": "stream",
          "name": "stdout",
          "text": [
            "15\n",
            "90\n",
            "[(2, 'two'), (3, 'three'), (1, 'one'), (4, 'four')]\n"
          ]
        }
      ]
    },
    {
      "cell_type": "code",
      "metadata": {
        "colab": {
          "base_uri": "https://localhost:8080/"
        },
        "id": "zGfL7JteCZ9p",
        "scrolled": true,
        "outputId": "1666691c-6a30-4b44-8255-8e2b4b709e50"
      },
      "source": [
        "mult3 = list(filter(lambda x: x % 3 == 0, [1, 2, 3, 4, 5, 6, 7, 8, 9]))\n",
        "print(mult3)\n",
        "print(type(mult3))"
      ],
      "execution_count": null,
      "outputs": [
        {
          "output_type": "stream",
          "name": "stdout",
          "text": [
            "[3, 6, 9]\n",
            "<class 'list'>\n"
          ]
        }
      ]
    },
    {
      "cell_type": "code",
      "metadata": {
        "colab": {
          "base_uri": "https://localhost:8080/"
        },
        "id": "_AL05r-FC_C-",
        "outputId": "4454dfd6-d883-4f7c-9c6e-54ef1037997e"
      },
      "source": [
        "def make_incrementor(n):\n",
        "    return lambda x: x + n\n",
        "\n",
        "f = make_incrementor(45) #  lambda x: x + 45\n",
        "print(f(3))"
      ],
      "execution_count": null,
      "outputs": [
        {
          "output_type": "stream",
          "name": "stdout",
          "text": [
            "48\n"
          ]
        }
      ]
    },
    {
      "cell_type": "markdown",
      "metadata": {
        "id": "9S00tgtyDy2e"
      },
      "source": [
        "# Demonstrate how to use list comprehensions"
      ]
    },
    {
      "cell_type": "code",
      "metadata": {
        "colab": {
          "base_uri": "https://localhost:8080/"
        },
        "id": "Xuc0JwFYDp70",
        "outputId": "1269ed09-2e18-45a7-d77c-8a65d6b7406c"
      },
      "source": [
        "# define two lists of numbers\n",
        "evens = [2, 4, 6, 8, 10, 12, 14, 16, 18, 20]\n",
        "odds = [1, 3, 5, 7, 9, 11, 13, 15, 17, 19]\n",
        "\n",
        "# Derive a new list of numbers frm a given list\n",
        "evenSquared = [e ** 2 for e in evens]\n",
        "print(evenSquared)"
      ],
      "execution_count": null,
      "outputs": [
        {
          "output_type": "stream",
          "name": "stdout",
          "text": [
            "[4, 16, 36, 64, 100, 144, 196, 256, 324, 400]\n"
          ]
        }
      ]
    },
    {
      "cell_type": "code",
      "source": [
        "base = [5,10,15,20,25]\n",
        "height = [5,4,5,5,4]\n",
        "\n",
        "area = [0.5*b*h for b,h in zip(base, height)]\n",
        "print(area)"
      ],
      "metadata": {
        "colab": {
          "base_uri": "https://localhost:8080/"
        },
        "id": "GBXP0U6udjLh",
        "outputId": "31578773-1ae4-4a40-e4e8-3fc1acf6810f"
      },
      "execution_count": null,
      "outputs": [
        {
          "output_type": "stream",
          "name": "stdout",
          "text": [
            "[12.5, 20.0, 37.5, 50.0, 50.0]\n"
          ]
        }
      ]
    },
    {
      "cell_type": "markdown",
      "metadata": {
        "id": "HAWL6xahhQgs"
      },
      "source": [
        "The **map()** function executes a specified function for each item in a iterable. The item is sent to the function as a parameter."
      ]
    },
    {
      "cell_type": "code",
      "metadata": {
        "colab": {
          "base_uri": "https://localhost:8080/"
        },
        "id": "L3SsyPRAD7X6",
        "outputId": "0f4067c3-b34b-41a1-c268-927526f3920d"
      },
      "source": [
        "# # Perform a mapping and filter function on a list\n",
        "evenSquared = list(map(lambda e: e**2, filter(lambda e: e > 4 and e < 16, evens)))\n",
        "print(evenSquared)"
      ],
      "execution_count": null,
      "outputs": [
        {
          "output_type": "stream",
          "name": "stdout",
          "text": [
            "[36, 64, 100, 144, 196]\n"
          ]
        }
      ]
    },
    {
      "cell_type": "code",
      "metadata": {
        "colab": {
          "base_uri": "https://localhost:8080/"
        },
        "id": "wTO89UOWEDwY",
        "outputId": "51011fd5-2cf9-4a51-df02-414318daa2a3"
      },
      "source": [
        "evenSquared_new = [e ** 2 for e in evens if e > 4 and e < 16]\n",
        "print(evenSquared_new)"
      ],
      "execution_count": null,
      "outputs": [
        {
          "output_type": "stream",
          "name": "stdout",
          "text": [
            "[36, 64, 100, 144, 196]\n"
          ]
        }
      ]
    },
    {
      "cell_type": "code",
      "metadata": {
        "colab": {
          "base_uri": "https://localhost:8080/"
        },
        "id": "JYYZaWBUEMNB",
        "outputId": "66a4a0b9-4ff8-4d71-e8a4-334812b6f297"
      },
      "source": [
        "# Limit the items operated on with a predicate condition\n",
        "oddSquared = [e ** 2 for e in odds if e > 3 and e < 17]\n",
        "print(oddSquared)"
      ],
      "execution_count": null,
      "outputs": [
        {
          "output_type": "stream",
          "text": [
            "[25, 49, 81, 121, 169, 225]\n"
          ],
          "name": "stdout"
        }
      ]
    },
    {
      "cell_type": "markdown",
      "metadata": {
        "id": "QhyIfD1zE6cF"
      },
      "source": [
        "# Demonstrate the usage of Counter objects"
      ]
    },
    {
      "cell_type": "code",
      "metadata": {
        "colab": {
          "base_uri": "https://localhost:8080/"
        },
        "id": "8T7de_UeEWO4",
        "outputId": "5e58723c-41f3-44c6-b8ad-b52d3249ce7e"
      },
      "source": [
        "# A Counter is a container that keeps track of how many times equivalent values are added\n",
        "\n",
        "from collections import Counter\n",
        "\n",
        "# list of students in class 1\n",
        "class1 = [\"Bob\", \"James\", \"Chad\", \"Darcy\", \"Penny\", \"Hannah\"\n",
        "          \"Kevin\", \"James\", \"Melanie\", \"Becky\", \"Steve\", \"Frank\"]\n",
        "\n",
        "# list of students in class 2\n",
        "class2 = [\"Bill\", \"Barry\", \"Cindy\", \"Debbie\", \"Frank\",\n",
        "          \"Gabby\", \"Kelly\", \"James\", \"Joe\", \"Sam\", \"Tara\", \"Ziggy\"]\n",
        "\n",
        "# Create a Counter for class1 and class2\n",
        "c1 = Counter(class1)\n",
        "c2 = Counter(class2)\n",
        "print(c1)\n",
        "# How many students in class 1 named James?\n",
        "print(c1[\"James\"])"
      ],
      "execution_count": null,
      "outputs": [
        {
          "output_type": "stream",
          "name": "stdout",
          "text": [
            "Counter({'James': 2, 'Bob': 1, 'Chad': 1, 'Darcy': 1, 'Penny': 1, 'HannahKevin': 1, 'Melanie': 1, 'Becky': 1, 'Steve': 1, 'Frank': 1})\n",
            "2\n"
          ]
        }
      ]
    },
    {
      "cell_type": "code",
      "metadata": {
        "colab": {
          "base_uri": "https://localhost:8080/"
        },
        "id": "31tUhEPWFD7y",
        "outputId": "b78e88db-793e-4246-bb85-bbb1798bf6ec"
      },
      "source": [
        "# How many students are in class 1?\n",
        "print(sum(c1.values()), \"students in class 1\")\n",
        "\n",
        "# Combine the two classes\n",
        "c1.update(class2)\n",
        "print(sum(c1.values()), \"students in class 1 and 2\")\n",
        "\n",
        "# What's the most common name in the two classes?\n",
        "print(c1.most_common(3), \"the most common name in the two classes\") # 3 is indicating --- how many\n",
        "\n",
        "# Separate the classes again\n",
        "c1.subtract(class2)\n",
        "print(c1.most_common(2))\n",
        "\n",
        "# What's common between the two classes?\n",
        "print((c1 & c2), \"common between the two classes\")"
      ],
      "execution_count": null,
      "outputs": [
        {
          "output_type": "stream",
          "name": "stdout",
          "text": [
            "11 students in class 1\n",
            "23 students in class 1 and 2\n",
            "[('James', 3), ('Frank', 2), ('Bob', 1)] the most common name in the two classes\n",
            "[('James', 2), ('Bob', 1)]\n",
            "Counter({'James': 1, 'Frank': 1}) common between the two classes\n"
          ]
        }
      ]
    },
    {
      "cell_type": "markdown",
      "metadata": {
        "id": "eFvvSRR6G6cJ"
      },
      "source": [
        "# Demonstrate the usage of defaultdict objects\n",
        "\n",
        "A defaultdict works exactly like a normal dict, but it is initialized with a function (“default factory”) that takes no arguments and provides the default value for a nonexistent key.\n",
        "\n",
        "A defaultdict will never raise a KeyError."
      ]
    },
    {
      "cell_type": "code",
      "source": [
        "dict = {'a':1,'b':2}\n",
        "print(dict['ukn'])"
      ],
      "metadata": {
        "colab": {
          "base_uri": "https://localhost:8080/",
          "height": 183
        },
        "id": "b0LCbsSUcj8A",
        "outputId": "676499e6-b499-41f1-aadc-067cf9ab818b"
      },
      "execution_count": null,
      "outputs": [
        {
          "output_type": "error",
          "ename": "KeyError",
          "evalue": "ignored",
          "traceback": [
            "\u001b[0;31m---------------------------------------------------------------------------\u001b[0m",
            "\u001b[0;31mKeyError\u001b[0m                                  Traceback (most recent call last)",
            "\u001b[0;32m<ipython-input-37-1b49261fcb5e>\u001b[0m in \u001b[0;36m<module>\u001b[0;34m()\u001b[0m\n\u001b[1;32m      1\u001b[0m \u001b[0mdict\u001b[0m \u001b[0;34m=\u001b[0m \u001b[0;34m{\u001b[0m\u001b[0;34m'a'\u001b[0m\u001b[0;34m:\u001b[0m\u001b[0;36m1\u001b[0m\u001b[0;34m,\u001b[0m\u001b[0;34m'b'\u001b[0m\u001b[0;34m:\u001b[0m\u001b[0;36m2\u001b[0m\u001b[0;34m}\u001b[0m\u001b[0;34m\u001b[0m\u001b[0;34m\u001b[0m\u001b[0m\n\u001b[0;32m----> 2\u001b[0;31m \u001b[0mprint\u001b[0m\u001b[0;34m(\u001b[0m\u001b[0mdict\u001b[0m\u001b[0;34m[\u001b[0m\u001b[0;34m'ukn'\u001b[0m\u001b[0;34m]\u001b[0m\u001b[0;34m)\u001b[0m\u001b[0;34m\u001b[0m\u001b[0;34m\u001b[0m\u001b[0m\n\u001b[0m",
            "\u001b[0;31mKeyError\u001b[0m: 'ukn'"
          ]
        }
      ]
    },
    {
      "cell_type": "code",
      "metadata": {
        "colab": {
          "base_uri": "https://localhost:8080/"
        },
        "id": "pC3BVFcNFYHr",
        "outputId": "c1dbd858-c6fc-4642-fdb5-8e27ee18558b"
      },
      "source": [
        "from collections import defaultdict\n",
        "\n",
        "ice_cream = defaultdict(lambda: 'There is no such word')\n",
        "ice_cream['Sarah'] = 'Chunky Monkey'\n",
        "ice_cream['Abdul'] = 'Butter Pecan'\n",
        "print(ice_cream['ukn'])"
      ],
      "execution_count": null,
      "outputs": [
        {
          "output_type": "stream",
          "name": "stdout",
          "text": [
            "There is no such word\n"
          ]
        }
      ]
    },
    {
      "cell_type": "markdown",
      "metadata": {
        "id": "TM1PJ7ieHmht"
      },
      "source": [
        "# Demonstrate how to use dictionary comprehensions"
      ]
    },
    {
      "cell_type": "code",
      "metadata": {
        "colab": {
          "base_uri": "https://localhost:8080/"
        },
        "id": "Z5QGg1ZMGVSx",
        "outputId": "d97b7818-3e5f-4f2c-fe8f-cc7e2c11253b"
      },
      "source": [
        "# define a list of temperature values\n",
        "ctemps = [0, 12, 34, 100]\n",
        "\n",
        "# Use a comprehension to build a dictionary\n",
        "tempDict = {t: (t * 9/5) + 32 for t in ctemps if t < 100}\n",
        "print(tempDict)\n",
        "\n",
        "print(\"\\n\")\n",
        "\n",
        "print(tempDict[12]) # access individual element\n",
        "print(tempDict[34])"
      ],
      "execution_count": null,
      "outputs": [
        {
          "output_type": "stream",
          "text": [
            "{0: 32.0, 12: 53.6, 34: 93.2}\n",
            "\n",
            "\n",
            "53.6\n",
            "93.2\n"
          ],
          "name": "stdout"
        }
      ]
    },
    {
      "cell_type": "markdown",
      "metadata": {
        "id": "1sSWiTWFH0H1"
      },
      "source": [
        "# Use of Template"
      ]
    },
    {
      "cell_type": "code",
      "metadata": {
        "colab": {
          "base_uri": "https://localhost:8080/"
        },
        "id": "rqnVhel1HDE6",
        "outputId": "2c3fccf1-1a07-45a7-ccae-a8dc1bce1586"
      },
      "source": [
        "from string import Template\n",
        "\n",
        "str1 = \"Welcome to all {0} {1} {2} students!\".format(\"AUST\", \"CSE\", \"4-2\")\n",
        "print(str1)\n",
        "\n",
        "# create a template with placeholders\n",
        "templ = Template(\"Welcome to all ${university} ${department} ${semester} students!\")\n",
        "\n",
        "# use the substitute method with keyword arguments\n",
        "str2 = templ.substitute(university=\"AUST\", department=\"CSE\", semester=\"4-2\")\n",
        "print(str2)\n",
        "\n",
        "# use the substitute method with a dictionary\n",
        "data = {\n",
        "    \"university\": \"AUST\",\n",
        "    \"department\": \"CSE\",\n",
        "    \"semester\": \"4-2\"\n",
        "}\n",
        "str3 = templ.substitute(data)\n",
        "print(str3)"
      ],
      "execution_count": null,
      "outputs": [
        {
          "output_type": "stream",
          "name": "stdout",
          "text": [
            "Welcome to all AUST CSE 4-2 students!\n",
            "Welcome to all AUST CSE 4-2 students!\n",
            "Welcome to all AUST CSE 4-2 students!\n"
          ]
        }
      ]
    },
    {
      "cell_type": "code",
      "source": [
        "width = [5,10,15,20,25,30]\n",
        "height = [10,15,20,25,30]\n",
        "\n",
        "area = [ (i,t[0*t[1]]) for i,t in enumerate(zip(width, height))]\n",
        "area"
      ],
      "metadata": {
        "colab": {
          "base_uri": "https://localhost:8080/"
        },
        "id": "1xf75myWf6t6",
        "outputId": "240a34cf-e9a4-4384-f675-37634f6a5591"
      },
      "execution_count": null,
      "outputs": [
        {
          "output_type": "execute_result",
          "data": {
            "text/plain": [
              "[(0, 5), (1, 10), (2, 15), (3, 20), (4, 25)]"
            ]
          },
          "metadata": {},
          "execution_count": 49
        }
      ]
    },
    {
      "cell_type": "code",
      "metadata": {
        "id": "EHK8sruTHvNG"
      },
      "source": [
        ""
      ],
      "execution_count": null,
      "outputs": []
    }
  ]
}